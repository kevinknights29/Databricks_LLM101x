{
 "cells": [
  {
   "cell_type": "markdown",
   "metadata": {
    "application/vnd.databricks.v1+cell": {
     "cellMetadata": {},
     "inputWidgets": {},
     "nuid": "96ec76c6-6156-4f14-97c2-68d5693602d4",
     "showTitle": false,
     "title": ""
    }
   },
   "source": [
    "\n",
    "<div style=\"text-align: center; line-height: 0; padding-top: 9px;\">\n",
    "  <img src=\"https://databricks.com/wp-content/uploads/2018/03/db-academy-rgb-1200px.png\" alt=\"Databricks Learning\" style=\"width: 600px\">\n",
    "</div>"
   ]
  },
  {
   "cell_type": "markdown",
   "metadata": {
    "application/vnd.databricks.v1+cell": {
     "cellMetadata": {},
     "inputWidgets": {},
     "nuid": "76525fad-665a-4711-8f9e-01f7be56bb27",
     "showTitle": false,
     "title": ""
    }
   },
   "source": [
    "\n",
    "# Building Multi-stage Reasoning Systems with LangChain\n",
    "\n",
    "### Multi-stage reasoning systems \n",
    "In this notebook we're going to create two AI systems:\n",
    "- The first, code named `JekyllHyde` will be a prototype AI self-commenting-and-moderating tool that will create new reaction comments to a piece of text with one LLM and use another LLM to critique those comments and flag them if they are negative. To build this we will walk through the steps needed to construct prompts and chains, as well as multiple LLM Chains that take multiple inputs, both from the previous LLM and external. \n",
    "- The second system, codenamed `DaScie` (pronounced \"dae-see\") will take the form of an LLM-based agent that will be tasked with performing data science tasks on data that will be stored in a vector database using ChromaDB. We will use LangChain agents as well as the ChromaDB library, as well as the Pandas Dataframe Agent and python REPL (Read-Eval-Print Loop) tool.\n",
    "----\n",
    "### ![Dolly](https://files.training.databricks.com/images/llm/dolly_small.png) Learning Objectives\n",
    "\n",
    "By the end of this notebook, you will be able to:\n",
    "1. Build prompt template and create new prompts with different inputs\n",
    "2. Create basic LLM chains to connect prompts and LLMs.\n",
    "3. Construct sequential chains of multiple `LLMChains` to perform multi-stage reasoning analysis. \n",
    "4. Use langchain agents to build semi-automated systems with an LLM-centric agent to perform internet searches and dataset analysis."
   ]
  },
  {
   "cell_type": "markdown",
   "metadata": {
    "application/vnd.databricks.v1+cell": {
     "cellMetadata": {},
     "inputWidgets": {},
     "nuid": "8d5b67fc-dede-42b2-9184-961022ab5cec",
     "showTitle": false,
     "title": ""
    }
   },
   "source": [
    "\n",
    "## Classroom Setup"
   ]
  },
  {
   "cell_type": "code",
   "execution_count": 0,
   "metadata": {
    "application/vnd.databricks.v1+cell": {
     "cellMetadata": {},
     "inputWidgets": {},
     "nuid": "e6468a9c-79f7-423f-aaaf-44fddee88790",
     "showTitle": false,
     "title": ""
    }
   },
   "outputs": [],
   "source": [
    "%run ../Includes/Classroom-Setup"
   ]
  },
  {
   "cell_type": "code",
   "execution_count": 0,
   "metadata": {
    "application/vnd.databricks.v1+cell": {
     "cellMetadata": {},
     "inputWidgets": {},
     "nuid": "2aeb04b3-fa3d-44b9-9d0d-36010db1ab0c",
     "showTitle": false,
     "title": ""
    }
   },
   "outputs": [],
   "source": [
    "%pip install wikipedia==1.4.0 google-search-results==2.4.2 better-profanity==0.7.0 sqlalchemy==2.0.15"
   ]
  },
  {
   "cell_type": "markdown",
   "metadata": {
    "application/vnd.databricks.v1+cell": {
     "cellMetadata": {},
     "inputWidgets": {},
     "nuid": "c47f4ee1-a7fa-45db-af8a-54713318e189",
     "showTitle": false,
     "title": ""
    }
   },
   "source": [
    "## Generate API tokens\n",
    "For many of the services that we'll using in the notebook, we'll need some API keys. Follow the instructions below to generate your own. \n",
    "\n",
    "### Hugging Face Hub\n",
    "1. Go to this [Inference API page](https://huggingface.co/inference-api) and click \"Sign Up\" on the top right.\n",
    "\n",
    "<img src=\"https://files.training.databricks.com/images/llm/hf_sign_up.png\" width=700>\n",
    "\n",
    "2. Once you have signed up and confirmed your email address, click on your user icon on the top right and click the `Settings` button. \n",
    "\n",
    "3. Navigate to the `Access Token` tab and copy your token. \n",
    "\n",
    "<img src=\"https://files.training.databricks.com/images/llm/hf_token_page.png\" width=500>\n"
   ]
  },
  {
   "cell_type": "markdown",
   "metadata": {
    "application/vnd.databricks.v1+cell": {
     "cellMetadata": {},
     "inputWidgets": {},
     "nuid": "19f0e957-e6dc-4deb-b8de-da395c9b4955",
     "showTitle": false,
     "title": ""
    }
   },
   "source": [
    "### SerpApi\n",
    "\n",
    "1. Go to this [page](https://serpapi.com/search-api) and click \"Register\" on the top right. \n",
    "<img src=\"https://files.training.databricks.com/images/llm/serp_register.png\" width=800>\n",
    "\n",
    "2. After registration, navigate to your dashboard and `API Key` tab. Copy your API key. \n",
    "<img src=\"https://files.training.databricks.com/images/llm/serp_api.png\" width=800>\n",
    "\n"
   ]
  },
  {
   "cell_type": "code",
   "execution_count": 0,
   "metadata": {
    "application/vnd.databricks.v1+cell": {
     "cellMetadata": {},
     "inputWidgets": {},
     "nuid": "75972002-db92-4064-9659-3aa8b70c5ba8",
     "showTitle": false,
     "title": ""
    }
   },
   "outputs": [],
   "source": [
    "# TODO\n",
    "# Copy paste your tokens below\n",
    "\n",
    "import os\n",
    "os.environ[\"HUGGINGFACEHUB_API_TOKEN\"] = \"<FILL IN>\"\n",
    "os.environ[\"SERPAPI_API_KEY\"] = \"<FILL IN>\""
   ]
  },
  {
   "cell_type": "markdown",
   "metadata": {
    "application/vnd.databricks.v1+cell": {
     "cellMetadata": {},
     "inputWidgets": {},
     "nuid": "f2029e4e-e45a-4c7a-b438-da51e49f9142",
     "showTitle": false,
     "title": ""
    }
   },
   "source": [
    "## `JekyllHyde` - A self moderating system for social media\n",
    "\n",
    "In this section we will build an AI system that consists of two LLMs. `Jekyll` will be an LLM designed to read in a social media post and create a new comment. However, `Jekyll` can be moody at times so there will always be a chance that it creates a negative-sentiment comment... we need to make sure we filter those out. Luckily, that is the role of `Hyde`, the other LLM that will watch what `Jekyll` says and flag any negative comments to be removed. "
   ]
  },
  {
   "cell_type": "markdown",
   "metadata": {
    "application/vnd.databricks.v1+cell": {
     "cellMetadata": {},
     "inputWidgets": {},
     "nuid": "de7a751b-cd2f-4a4c-b5e7-0ec10da18534",
     "showTitle": false,
     "title": ""
    }
   },
   "source": [
    "### Step 1 - Letting Jekyll Speak\n",
    "#### Building the Jekyll Prompt\n",
    "\n",
    "To build `Jekyll` we will need it to be able to read in the social media post and respond as a commenter. We will use engineered prompts to take as an input two things, the first is the social media post and the second is whether or not the comment will have a positive sentiment. We'll use a random number generator to create a chance of the flag to be positive or negative in `Jekyll's` response."
   ]
  },
  {
   "cell_type": "code",
   "execution_count": 0,
   "metadata": {
    "application/vnd.databricks.v1+cell": {
     "cellMetadata": {},
     "inputWidgets": {},
     "nuid": "540e2bf4-0540-4ff7-b1c2-4cd1bf900736",
     "showTitle": false,
     "title": ""
    }
   },
   "outputs": [],
   "source": [
    "# Let's start with the prompt template\n",
    "\n",
    "from langchain import PromptTemplate\n",
    "import numpy as np\n",
    "\n",
    "# Our template for Jekyll will instruct it on how it should respond, and what variables (using the {text} syntax) it should use.\n",
    "jekyll_template = \"\"\"\n",
    "You are a social media post commenter, you will respond to the following post with a {sentiment} response. \n",
    "Post:\" {social_post}\"\n",
    "Comment: \n",
    "\"\"\"\n",
    "# We use the PromptTemplate class to create an instance of our template that will use the prompt from above and store variables we will need to input when we make the prompt.\n",
    "jekyll_prompt_template = PromptTemplate(\n",
    "    input_variables=[\"sentiment\", \"social_post\"],\n",
    "    template=jekyll_template,\n",
    ")\n",
    "\n",
    "# Okay now that's ready we need to make the randomized sentiment\n",
    "random_sentiment = \"nice\"\n",
    "if np.random.rand() < 0.3:\n",
    "    random_sentiment = \"mean\"\n",
    "# We'll also need our social media post:\n",
    "social_post = \"I can't believe I'm learning about LangChain in this MOOC, there is so much to learn and so far the instructors have been so helpful. I'm having a lot of fun learning! #AI #Databricks\"\n",
    "\n",
    "# Let's create the prompt and print it out, this will be given to the LLM.\n",
    "jekyll_prompt = jekyll_prompt_template.format(\n",
    "    sentiment=random_sentiment, social_post=social_post\n",
    ")\n",
    "print(f\"Jekyll prompt:{jekyll_prompt}\")"
   ]
  },
  {
   "cell_type": "markdown",
   "metadata": {
    "application/vnd.databricks.v1+cell": {
     "cellMetadata": {},
     "inputWidgets": {},
     "nuid": "56f272e9-4552-4602-9f84-9da893cd2009",
     "showTitle": false,
     "title": ""
    }
   },
   "source": [
    "### Step 2 - Giving Jekyll a brain!\n",
    "####Building the Jekyll LLM \n",
    "\n",
    "Note: We provide an option for you to use either Hugging Face or OpenAI. If you continue with Hugging Face, the notebook execution will take a long time (up to 10 mins each cell). If you don't mind using OpenAI, following the next markdown cell for API key generation instructions. \n",
    "\n",
    "For OpenAI,  we will use their GPT-3 model: `text-babbage-001` as our LLM. "
   ]
  },
  {
   "cell_type": "markdown",
   "metadata": {
    "application/vnd.databricks.v1+cell": {
     "cellMetadata": {},
     "inputWidgets": {},
     "nuid": "b609e446-e7c1-4f45-8c6c-37743d5c352b",
     "showTitle": false,
     "title": ""
    }
   },
   "source": [
    "#### OPTIONAL: Use OpenAI's language model\n",
    "\n",
    "If you'd rather use OpenAI, you need to generate an OpenAI key. \n",
    "\n",
    "Steps:\n",
    "1. You need to [create an account](https://platform.openai.com/signup) on OpenAI. \n",
    "2. Generate an OpenAI [API key here](https://platform.openai.com/account/api-keys). \n",
    "\n",
    "Note: OpenAI does not have a free option, but it gives you $5 as credit. Once you have exhausted your $5 credit, you will need to add your payment method. You will be [charged per token usage](https://openai.com/pricing). \n",
    "\n",
    "**IMPORTANT**: It's crucial that you keep your OpenAI API key to yourself. If others have access to your OpenAI key, they will be able to charge their usage to your account! "
   ]
  },
  {
   "cell_type": "code",
   "execution_count": 0,
   "metadata": {
    "application/vnd.databricks.v1+cell": {
     "cellMetadata": {},
     "inputWidgets": {},
     "nuid": "e05e259c-e064-461f-a255-87ba08e01e7c",
     "showTitle": false,
     "title": ""
    }
   },
   "outputs": [],
   "source": [
    "# TODO\n",
    "\n",
    "os.environ[\"OPENAI_API_KEY\"] = \"<FILL IN>\""
   ]
  },
  {
   "cell_type": "code",
   "execution_count": 0,
   "metadata": {
    "application/vnd.databricks.v1+cell": {
     "cellMetadata": {},
     "inputWidgets": {},
     "nuid": "98ae2aca-f4cf-4d4f-af71-8772fe41c49d",
     "showTitle": false,
     "title": ""
    }
   },
   "outputs": [],
   "source": [
    "# # To interact with LLMs in LangChain we need the following modules loaded\n",
    "from langchain.llms import HuggingFacePipeline\n",
    "from transformers import AutoTokenizer, AutoModelForCausalLM, pipeline\n",
    "from langchain.llms import OpenAI\n",
    "\n",
    "jekyll_llm = OpenAI(model=\"text-babbage-001\")\n",
    "## We can also use a model from HuggingFaceHub if we wish to go open-source!\n",
    "\n",
    "# model_id = \"EleutherAI/gpt-neo-2.7B\"\n",
    "# tokenizer = AutoTokenizer.from_pretrained(model_id, cache_dir=DA.paths.datasets)\n",
    "# model = AutoModelForCausalLM.from_pretrained(model_id, cache_dir=DA.paths.datasets)\n",
    "# pipe = pipeline(\n",
    "#     \"text-generation\", model=model, tokenizer=tokenizer, max_new_tokens=512, device_map='auto'\n",
    "# )\n",
    "# jekyll_llm = HuggingFacePipeline(pipeline=pipe)"
   ]
  },
  {
   "cell_type": "markdown",
   "metadata": {
    "application/vnd.databricks.v1+cell": {
     "cellMetadata": {},
     "inputWidgets": {},
     "nuid": "0cbf4cde-7965-4bde-ace3-c7e451d71c08",
     "showTitle": false,
     "title": ""
    }
   },
   "source": [
    "### Step 3 - What does Jekyll Say?\n",
    "#### Building our Prompt-LLM Chain\n",
    "\n",
    "We can simplify our input by chaining the prompt template with our LLM so that we can pass the two variables directly to the chain."
   ]
  },
  {
   "cell_type": "code",
   "execution_count": 0,
   "metadata": {
    "application/vnd.databricks.v1+cell": {
     "cellMetadata": {},
     "inputWidgets": {},
     "nuid": "8459a723-1330-4236-931c-6fdb6fc4195d",
     "showTitle": false,
     "title": ""
    }
   },
   "outputs": [],
   "source": [
    "from langchain.chains import LLMChain\n",
    "from better_profanity import profanity\n",
    "\n",
    "\n",
    "jekyll_chain = LLMChain(\n",
    "    llm=jekyll_llm,\n",
    "    prompt=jekyll_prompt_template,\n",
    "    output_key=\"jekyll_said\",\n",
    "    verbose=False,\n",
    ")  # Now that we've chained the LLM and prompt, the output of the formatted prompt will pass directly to the LLM.\n",
    "\n",
    "# To run our chain we use the .run() command and input our variables as a dict\n",
    "jekyll_said = jekyll_chain.run(\n",
    "    {\"sentiment\": random_sentiment, \"social_post\": social_post}\n",
    ")\n",
    "\n",
    "# Before printing what Jekyll said, let's clean it up:\n",
    "cleaned_jekyll_said = profanity.censor(jekyll_said)\n",
    "print(f\"Jekyll said:{cleaned_jekyll_said}\")"
   ]
  },
  {
   "cell_type": "markdown",
   "metadata": {
    "application/vnd.databricks.v1+cell": {
     "cellMetadata": {},
     "inputWidgets": {},
     "nuid": "de506677-a6ee-41f2-a154-0d3f076fb383",
     "showTitle": false,
     "title": ""
    }
   },
   "source": [
    "### Step 4 - Time for Jekyll to Hyde\n",
    "#### Building the second chain for our Hyde moderator"
   ]
  },
  {
   "cell_type": "code",
   "execution_count": 0,
   "metadata": {
    "application/vnd.databricks.v1+cell": {
     "cellMetadata": {},
     "inputWidgets": {},
     "nuid": "212c2ebe-801f-4f37-8c21-b6387779fed8",
     "showTitle": false,
     "title": ""
    }
   },
   "outputs": [],
   "source": [
    "# -----------------------------------\n",
    "# -----------------------------------\n",
    "# 1 We will build the prompt template\n",
    "# Our template for Hyde will take Jekyll's comment and do some sentiment analysis.\n",
    "hyde_template = \"\"\"\n",
    "You are Hyde, the moderator of an online forum, you are strict and will not tolerate any negative comments. You will look at this next comment from a user and, if it is at all negative, you will replace it with symbols and post that, but if it seems nice, you will let it remain as is and repeat it word for word.\n",
    "Original comment: {jekyll_said}\n",
    "Edited comment:\n",
    "\"\"\"\n",
    "# We use the PromptTemplate class to create an instance of our template that will use the prompt from above and store variables we will need to input when we make the prompt.\n",
    "hyde_prompt_template = PromptTemplate(\n",
    "    input_variables=[\"jekyll_said\"],\n",
    "    template=hyde_template,\n",
    ")\n",
    "# -----------------------------------\n",
    "# -----------------------------------\n",
    "# 2 We connect an LLM for Hyde, (we could use a slightly more advanced model 'text-davinci-003 since we have some more logic in this prompt).\n",
    "\n",
    "hyde_llm = jekyll_llm\n",
    "# Uncomment the line below if you were to use OpenAI instead\n",
    "# hyde_llm = OpenAI(model=\"text-davinci-003\")\n",
    "\n",
    "# -----------------------------------\n",
    "# -----------------------------------\n",
    "# 3 We build the chain for Hyde\n",
    "hyde_chain = LLMChain(\n",
    "    llm=hyde_llm, prompt=hyde_prompt_template, verbose=False\n",
    ")  # Now that we've chained the LLM and prompt, the output of the formatted prompt will pass directly to the LLM.\n",
    "# -----------------------------------\n",
    "# -----------------------------------\n",
    "# 4 Let's run the chain with what Jekyll last said\n",
    "# To run our chain we use the .run() command and input our variables as a dict\n",
    "hyde_says = hyde_chain.run({\"jekyll_said\": jekyll_said})\n",
    "# Let's see what hyde said...\n",
    "print(f\"Hyde says: {hyde_says}\")"
   ]
  },
  {
   "cell_type": "markdown",
   "metadata": {
    "application/vnd.databricks.v1+cell": {
     "cellMetadata": {},
     "inputWidgets": {},
     "nuid": "b2752973-20c8-4e9c-a7cd-c9c5dd7b7109",
     "showTitle": false,
     "title": ""
    }
   },
   "source": [
    "### Step 5 - Creating `JekyllHyde`\n",
    "#### Building our first Sequential Chain"
   ]
  },
  {
   "cell_type": "code",
   "execution_count": 0,
   "metadata": {
    "application/vnd.databricks.v1+cell": {
     "cellMetadata": {},
     "inputWidgets": {},
     "nuid": "08f9b192-876d-4584-af5d-346c35417238",
     "showTitle": false,
     "title": ""
    }
   },
   "outputs": [],
   "source": [
    "from langchain.chains import SequentialChain\n",
    "\n",
    "# The SequentialChain class takes in the chains we are linking together, as well as the input variables that will be added to the chain. These input variables can be used at any point in the chain, not just the start.\n",
    "jekyllhyde_chain = SequentialChain(\n",
    "    chains=[jekyll_chain, hyde_chain],\n",
    "    input_variables=[\"sentiment\", \"social_post\"],\n",
    "    verbose=True,\n",
    ")\n",
    "\n",
    "# We can now run the chain with our randomized sentiment, and the social post!\n",
    "jekyllhyde_chain.run({\"sentiment\": random_sentiment, \"social_post\": social_post})"
   ]
  },
  {
   "cell_type": "markdown",
   "metadata": {
    "application/vnd.databricks.v1+cell": {
     "cellMetadata": {},
     "inputWidgets": {},
     "nuid": "d8723a30-b195-487e-be10-6d36427f16d3",
     "showTitle": false,
     "title": ""
    }
   },
   "source": [
    "## `DaScie` - Our first vector database data science AI agent!\n",
    "\n",
    "In this section we're going to build an Agent based on the [ReAct paradigm](https://react-lm.github.io/) (or thought-action-observation loop) that will take instructions in plain text and perform data science analysis on data that we've stored in a vector database. The agent type we'll use is using zero-shot learning, which takes in the prompt and leverages the underlying LLMs' zero-shot abilities. "
   ]
  },
  {
   "cell_type": "markdown",
   "metadata": {
    "application/vnd.databricks.v1+cell": {
     "cellMetadata": {},
     "inputWidgets": {},
     "nuid": "be6cbd6f-fec3-4e53-bc6d-f77c139a01d0",
     "showTitle": false,
     "title": ""
    }
   },
   "source": [
    "### Step 1 - Hello DaScie! \n",
    "#### Creating a data science-ready agent with LangChain!\n",
    "\n",
    "The tools we will give to DaScie so it can solve our tasks will be access to the internet with Google Search, the Wikipedia API, as well as a Python Read-Evaluate-Print Loop runtime, and finally access to a terminal.\n"
   ]
  },
  {
   "cell_type": "code",
   "execution_count": 0,
   "metadata": {
    "application/vnd.databricks.v1+cell": {
     "cellMetadata": {},
     "inputWidgets": {},
     "nuid": "10844d09-6182-4ab4-bbe1-28d4a2b4d430",
     "showTitle": false,
     "title": ""
    }
   },
   "outputs": [],
   "source": [
    "# For DaScie we need to load in some tools for it to use, as well as an LLM for the brain/reasoning\n",
    "from langchain.agents import load_tools  # This will allow us to load tools we need\n",
    "from langchain.agents import initialize_agent\n",
    "from langchain.agents import (\n",
    "    AgentType,\n",
    ")  # We will be using the type: ZERO_SHOT_REACT_DESCRIPTION which is standard\n",
    "from langchain.llms import OpenAI\n",
    "\n",
    "# if use Hugging Face\n",
    "# llm = jekyll_llm\n",
    "\n",
    "# For OpenAI we'll use the default model for DaScie\n",
    "llm = OpenAI()\n",
    "tools = load_tools([\"wikipedia\", \"serpapi\", \"python_repl\", \"terminal\"], llm=llm)\n",
    "# We now create DaScie using the \"initialize_agent\" command.\n",
    "dascie = initialize_agent(\n",
    "    tools, llm, agent=AgentType.ZERO_SHOT_REACT_DESCRIPTION, verbose=True\n",
    ")"
   ]
  },
  {
   "cell_type": "markdown",
   "metadata": {
    "application/vnd.databricks.v1+cell": {
     "cellMetadata": {},
     "inputWidgets": {},
     "nuid": "108e32e1-c660-4d5e-aa09-ccf06e73879c",
     "showTitle": false,
     "title": ""
    }
   },
   "source": [
    "### Step 2 - Testing out DaScie's skills\n",
    "Let's see how well DaScie can work with data on Wikipedia and create some data science results."
   ]
  },
  {
   "cell_type": "code",
   "execution_count": 0,
   "metadata": {
    "application/vnd.databricks.v1+cell": {
     "cellMetadata": {},
     "inputWidgets": {},
     "nuid": "509617f0-6adb-437e-a033-d7efe658c530",
     "showTitle": false,
     "title": ""
    }
   },
   "outputs": [],
   "source": [
    "dascie.run(\n",
    "    \"Create a dataset (DO NOT try to download one, you MUST create one based on what you find) on the performance of the Mercedes AMG F1 team in 2020 and do some analysis. You need to plot your results.\"\n",
    ")"
   ]
  },
  {
   "cell_type": "code",
   "execution_count": 0,
   "metadata": {
    "application/vnd.databricks.v1+cell": {
     "cellMetadata": {},
     "inputWidgets": {},
     "nuid": "3b9a4c91-9478-447e-8653-9d46cc1c93b1",
     "showTitle": false,
     "title": ""
    }
   },
   "outputs": [],
   "source": [
    "# Let's try to improve on these results with a more detailed prompt.\n",
    "dascie.run(\n",
    "    \"Create a detailed dataset (DO NOT try to download one, you MUST create one based on what you find) on the performance of each driver in the Mercedes AMG F1 team in 2020 and do some analysis with at least 3 plots, use a subplot for each graph so they can be shown at the same time, use seaborn to plot the graphs.\"\n",
    ")"
   ]
  },
  {
   "cell_type": "markdown",
   "metadata": {
    "application/vnd.databricks.v1+cell": {
     "cellMetadata": {},
     "inputWidgets": {},
     "nuid": "f5aa3455-4c2d-4d6a-a2eb-abf361954940",
     "showTitle": false,
     "title": ""
    }
   },
   "source": [
    "### Step 3 - Using some local data for DaScie.\n",
    "Now we will use some local data for DaScie to analyze.\n",
    "\n",
    "\n",
    "For this we'll change DaScie's configuration so it can focus on pandas analysis of some world data. Source: https://www.kaggle.com/datasets/arnabchaki/data-science-salaries-2023"
   ]
  },
  {
   "cell_type": "code",
   "execution_count": 0,
   "metadata": {
    "application/vnd.databricks.v1+cell": {
     "cellMetadata": {},
     "inputWidgets": {},
     "nuid": "9fd05f68-cb32-491d-82ba-204724016f12",
     "showTitle": false,
     "title": ""
    }
   },
   "outputs": [],
   "source": [
    "from langchain.agents import create_pandas_dataframe_agent\n",
    "import pandas as pd\n",
    "\n",
    "datasci_data_df = pd.read_csv(f\"{DA.paths.datasets}/salaries/ds_salaries.csv\")\n",
    "# world_data\n",
    "dascie = create_pandas_dataframe_agent(\n",
    "    OpenAI(temperature=0), datasci_data_df, verbose=True\n",
    ")"
   ]
  },
  {
   "cell_type": "code",
   "execution_count": 0,
   "metadata": {
    "application/vnd.databricks.v1+cell": {
     "cellMetadata": {},
     "inputWidgets": {},
     "nuid": "974b98a1-d3c7-49b4-9cfe-a389abf9dbf4",
     "showTitle": false,
     "title": ""
    }
   },
   "outputs": [],
   "source": [
    "# Let's see how well DaScie does on a simple request.\n",
    "dascie.run(\"Analyze this data, tell me any interesting trends. Make some pretty plots.\")"
   ]
  },
  {
   "cell_type": "code",
   "execution_count": 0,
   "metadata": {
    "application/vnd.databricks.v1+cell": {
     "cellMetadata": {},
     "inputWidgets": {},
     "nuid": "d1bee866-ccb0-4f08-a8f6-d55a695fb738",
     "showTitle": false,
     "title": ""
    }
   },
   "outputs": [],
   "source": [
    "# Not bad! Now for something even more complex.... can we get out LLM model do some ML!?\n",
    "dascie.run(\n",
    "    \"Train a random forest regressor to predict salary using the most important features. Show me the what variables are most influential to this model\"\n",
    ")"
   ]
  },
  {
   "cell_type": "markdown",
   "metadata": {
    "application/vnd.databricks.v1+cell": {
     "cellMetadata": {},
     "inputWidgets": {},
     "nuid": "c3d735de-476f-44e6-87db-310e6266a424",
     "showTitle": false,
     "title": ""
    }
   },
   "source": [
    "&copy; 2023 Databricks, Inc. All rights reserved.<br/>\n",
    "Apache, Apache Spark, Spark and the Spark logo are trademarks of the <a href=\"https://www.apache.org/\">Apache Software Foundation</a>.<br/>\n",
    "<br/>\n",
    "<a href=\"https://databricks.com/privacy-policy\">Privacy Policy</a> | <a href=\"https://databricks.com/terms-of-use\">Terms of Use</a> | <a href=\"https://help.databricks.com/\">Support</a>"
   ]
  }
 ],
 "metadata": {
  "application/vnd.databricks.v1+notebook": {
   "dashboards": [],
   "language": "python",
   "notebookMetadata": {
    "pythonIndentUnit": 2
   },
   "notebookName": "LLM 03 - Building LLM Chains",
   "widgets": {}
  }
 },
 "nbformat": 4,
 "nbformat_minor": 0
}
