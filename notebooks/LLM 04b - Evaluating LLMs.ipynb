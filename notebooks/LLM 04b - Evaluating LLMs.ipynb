{
 "cells": [
  {
   "cell_type": "markdown",
   "metadata": {
    "application/vnd.databricks.v1+cell": {
     "cellMetadata": {},
     "inputWidgets": {},
     "nuid": "4e29beab-42a9-464b-8d5b-6580b7b5ce30",
     "showTitle": false,
     "title": ""
    }
   },
   "source": [
    "\n",
    "<div style=\"text-align: center; line-height: 0; padding-top: 9px;\">\n",
    "  <img src=\"https://databricks.com/wp-content/uploads/2018/03/db-academy-rgb-1200px.png\" alt=\"Databricks Learning\" style=\"width: 600px\">\n",
    "</div>"
   ]
  },
  {
   "cell_type": "markdown",
   "metadata": {
    "application/vnd.databricks.v1+cell": {
     "cellMetadata": {},
     "inputWidgets": {},
     "nuid": "c4ea4e68-2f3b-4414-9966-3a5c21c7efb3",
     "showTitle": false,
     "title": ""
    }
   },
   "source": [
    "\n",
    "# Evaluating Large Language Models (LLMs)\n",
    "This notebook demonstrates methods for evaluating LLMs.  We focus on the task of summarization and cover accuracy, ROUGE-N, and perplexity.\n",
    "\n",
    "### ![Dolly](https://files.training.databricks.com/images/llm/dolly_small.png) Learning Objectives\n",
    "1. Know how to compute ROUGE-N and other metrics.\n",
    "2. Gain an intuitive understanding of ROUGE-N.\n",
    "3. Test various models and model sizes on the same data, and compare their results."
   ]
  },
  {
   "cell_type": "markdown",
   "metadata": {
    "application/vnd.databricks.v1+cell": {
     "cellMetadata": {},
     "inputWidgets": {},
     "nuid": "118af464-5d63-4a6e-ac6d-15c35481b1ab",
     "showTitle": false,
     "title": ""
    }
   },
   "source": [
    "\n",
    "## Classroom Setup"
   ]
  },
  {
   "cell_type": "code",
   "execution_count": 0,
   "metadata": {
    "application/vnd.databricks.v1+cell": {
     "cellMetadata": {},
     "inputWidgets": {},
     "nuid": "2a926a5a-ab0c-4097-9704-13ee46b278b4",
     "showTitle": false,
     "title": ""
    }
   },
   "outputs": [],
   "source": [
    "%pip install rouge_score==0.1.2"
   ]
  },
  {
   "cell_type": "code",
   "execution_count": 0,
   "metadata": {
    "application/vnd.databricks.v1+cell": {
     "cellMetadata": {},
     "inputWidgets": {},
     "nuid": "50475268-4fb8-4cb3-865f-9b0f34880af0",
     "showTitle": false,
     "title": ""
    }
   },
   "outputs": [],
   "source": [
    "%run ../Includes/Classroom-Setup"
   ]
  },
  {
   "cell_type": "markdown",
   "metadata": {
    "application/vnd.databricks.v1+cell": {
     "cellMetadata": {},
     "inputWidgets": {},
     "nuid": "976cc657-5830-41c4-9a96-f962bd18cdb4",
     "showTitle": false,
     "title": ""
    }
   },
   "source": [
    "## How can we evaluate summarization?\n",
    "\n",
    "Suppose you are developing a smartphone news app and need to display automatically generated summaries of breaking news articles.  How can you evaluate whether or not the summaries you are generating are good?\n",
    "\n",
    "![](https://drive.google.com/uc?export=view&id=1V6cMD1LgivCb850JDhva1DO9EWVH8rJ7)"
   ]
  },
  {
   "cell_type": "markdown",
   "metadata": {
    "application/vnd.databricks.v1+cell": {
     "cellMetadata": {},
     "inputWidgets": {},
     "nuid": "1f811895-f379-4e7d-ace2-67500bc718a9",
     "showTitle": false,
     "title": ""
    }
   },
   "source": [
    "## Dataset\n",
    "\n",
    "We will use a subset of the `cnn_dailymail` dataset from See et al., 2017, downloadable from the [Hugging Face `datasets` hub](https://huggingface.co/datasets/cnn_dailymail).\n",
    "\n",
    "This dataset provides news article paired with summaries (in the \"highlights\" column).  Let's load the data and take a look at some examples."
   ]
  },
  {
   "cell_type": "code",
   "execution_count": 0,
   "metadata": {
    "application/vnd.databricks.v1+cell": {
     "cellMetadata": {},
     "inputWidgets": {},
     "nuid": "4abc9ad9-b48a-414d-b770-eaa312f7734a",
     "showTitle": false,
     "title": ""
    }
   },
   "outputs": [],
   "source": [
    "import torch\n",
    "from datasets import load_dataset\n",
    "\n",
    "full_dataset = load_dataset(\n",
    "    \"cnn_dailymail\", version=\"3.0.0\", cache_dir=DA.paths.datasets\n",
    ")  # Note: We specify cache_dir to use pre-cached data.\n",
    "\n",
    "# Use a small sample of the data during this lab, for speed.\n",
    "sample_size = 100\n",
    "sample = (\n",
    "    full_dataset[\"train\"]\n",
    "    .filter(lambda r: \"CNN\" in r[\"article\"][:25])\n",
    "    .shuffle(seed=42)\n",
    "    .select(range(sample_size))\n",
    ")\n",
    "sample"
   ]
  },
  {
   "cell_type": "code",
   "execution_count": 0,
   "metadata": {
    "application/vnd.databricks.v1+cell": {
     "cellMetadata": {},
     "inputWidgets": {},
     "nuid": "50e3bfd5-6391-4481-9cab-4775edbfb354",
     "showTitle": false,
     "title": ""
    }
   },
   "outputs": [],
   "source": [
    "display(sample.to_pandas())"
   ]
  },
  {
   "cell_type": "code",
   "execution_count": 0,
   "metadata": {
    "application/vnd.databricks.v1+cell": {
     "cellMetadata": {},
     "inputWidgets": {},
     "nuid": "44760557-b515-4e37-9a78-7b1985aa4885",
     "showTitle": false,
     "title": ""
    }
   },
   "outputs": [],
   "source": [
    "example_article = sample[\"article\"][0]\n",
    "example_summary = sample[\"highlights\"][0]\n",
    "print(f\"Article:\\n{example_article}\\n\")\n",
    "print(f\"Summary:\\n{example_summary}\")"
   ]
  },
  {
   "cell_type": "markdown",
   "metadata": {
    "application/vnd.databricks.v1+cell": {
     "cellMetadata": {},
     "inputWidgets": {},
     "nuid": "7bdec50d-2178-44e5-bf56-dabbb50a9bdc",
     "showTitle": false,
     "title": ""
    }
   },
   "source": [
    "## Summarization"
   ]
  },
  {
   "cell_type": "code",
   "execution_count": 0,
   "metadata": {
    "application/vnd.databricks.v1+cell": {
     "cellMetadata": {},
     "inputWidgets": {},
     "nuid": "55fb2bba-c435-4a17-8e9e-1c934474e71e",
     "showTitle": false,
     "title": ""
    }
   },
   "outputs": [],
   "source": [
    "import pandas as pd\n",
    "import torch\n",
    "import gc\n",
    "from transformers import AutoTokenizer, T5ForConditionalGeneration"
   ]
  },
  {
   "cell_type": "code",
   "execution_count": 0,
   "metadata": {
    "application/vnd.databricks.v1+cell": {
     "cellMetadata": {},
     "inputWidgets": {},
     "nuid": "f40c3152-29fc-433e-b189-34969c6d47f3",
     "showTitle": false,
     "title": ""
    }
   },
   "outputs": [],
   "source": [
    "def batch_generator(data: list, batch_size: int):\n",
    "    \"\"\"\n",
    "    Creates batches of size `batch_size` from a list.\n",
    "    \"\"\"\n",
    "    s = 0\n",
    "    e = s + batch_size\n",
    "    while s < len(data):\n",
    "        yield data[s:e]\n",
    "        s = e\n",
    "        e = min(s + batch_size, len(data))\n",
    "\n",
    "\n",
    "def summarize_with_t5(\n",
    "    model_checkpoint: str, articles: list, batch_size: int = 8\n",
    ") -> list:\n",
    "    \"\"\"\n",
    "    Compute summaries using a T5 model.\n",
    "    This is similar to a `pipeline` for a T5 model but does tokenization manually.\n",
    "\n",
    "    :param model_checkpoint: Name for a model checkpoint in Hugging Face, such as \"t5-small\" or \"t5-base\"\n",
    "    :param articles: List of strings, where each string represents one article.\n",
    "    :return: List of strings, where each string represents one article's generated summary\n",
    "    \"\"\"\n",
    "    if torch.cuda.is_available():\n",
    "        device = \"cuda:0\"\n",
    "    else:\n",
    "        device = \"cpu\"\n",
    "\n",
    "    model = T5ForConditionalGeneration.from_pretrained(\n",
    "        model_checkpoint, cache_dir=DA.paths.datasets\n",
    "    ).to(device)\n",
    "    tokenizer = AutoTokenizer.from_pretrained(\n",
    "        model_checkpoint, model_max_length=1024, cache_dir=DA.paths.datasets\n",
    "    )\n",
    "\n",
    "    def perform_inference(batch: list) -> list:\n",
    "        inputs = tokenizer(\n",
    "            batch, max_length=1024, return_tensors=\"pt\", padding=True, truncation=True\n",
    "        )\n",
    "\n",
    "        summary_ids = model.generate(\n",
    "            inputs.input_ids.to(device),\n",
    "            attention_mask=inputs.attention_mask.to(device),\n",
    "            num_beams=2,\n",
    "            min_length=0,\n",
    "            max_length=40,\n",
    "        )\n",
    "        return tokenizer.batch_decode(summary_ids, skip_special_tokens=True)\n",
    "\n",
    "    res = []\n",
    "\n",
    "    summary_articles = list(map(lambda article: \"summarize: \" + article, articles))\n",
    "    for batch in batch_generator(summary_articles, batch_size=batch_size):\n",
    "        res += perform_inference(batch)\n",
    "\n",
    "        torch.cuda.empty_cache()\n",
    "        gc.collect()\n",
    "\n",
    "    # clean up\n",
    "    del tokenizer\n",
    "    del model\n",
    "    torch.cuda.empty_cache()\n",
    "    gc.collect()\n",
    "    return res"
   ]
  },
  {
   "cell_type": "code",
   "execution_count": 0,
   "metadata": {
    "application/vnd.databricks.v1+cell": {
     "cellMetadata": {},
     "inputWidgets": {},
     "nuid": "a6284d68-f290-466d-b1a7-7c588631ddc1",
     "showTitle": false,
     "title": ""
    }
   },
   "outputs": [],
   "source": [
    "t5_small_summaries = summarize_with_t5(\"t5-small\", sample[\"article\"])"
   ]
  },
  {
   "cell_type": "code",
   "execution_count": 0,
   "metadata": {
    "application/vnd.databricks.v1+cell": {
     "cellMetadata": {},
     "inputWidgets": {},
     "nuid": "185320c3-3024-4452-91a7-f788c891daab",
     "showTitle": false,
     "title": ""
    }
   },
   "outputs": [],
   "source": [
    "reference_summaries = sample[\"highlights\"]"
   ]
  },
  {
   "cell_type": "code",
   "execution_count": 0,
   "metadata": {
    "application/vnd.databricks.v1+cell": {
     "cellMetadata": {},
     "inputWidgets": {},
     "nuid": "96471b6b-8f46-4663-ac68-9177699008e7",
     "showTitle": false,
     "title": ""
    }
   },
   "outputs": [],
   "source": [
    "display(\n",
    "    pd.DataFrame.from_dict(\n",
    "        {\n",
    "            \"generated\": t5_small_summaries,\n",
    "            \"reference\": reference_summaries,\n",
    "        }\n",
    "    )\n",
    ")"
   ]
  },
  {
   "cell_type": "markdown",
   "metadata": {
    "application/vnd.databricks.v1+cell": {
     "cellMetadata": {},
     "inputWidgets": {},
     "nuid": "7cc70b60-3ede-446e-9c3d-b26e55e5ce7b",
     "showTitle": false,
     "title": ""
    }
   },
   "source": [
    "You may see some warning messages in the output above.  While pipelines are handy, they provide less control over the tokenizer and model; we will dive deeper later.\n",
    "\n",
    "But first, let's see how our summarization pipeline does!  We'll compute 0/1 accuracy, a classic ML evaluation metric."
   ]
  },
  {
   "cell_type": "code",
   "execution_count": 0,
   "metadata": {
    "application/vnd.databricks.v1+cell": {
     "cellMetadata": {},
     "inputWidgets": {},
     "nuid": "a19c7ff1-5e63-4b9b-b1cc-9626398765cb",
     "showTitle": false,
     "title": ""
    }
   },
   "outputs": [],
   "source": [
    "accuracy = 0.0\n",
    "for i in range(len(reference_summaries)):\n",
    "    generated_summary = t5_small_summaries[i]\n",
    "    if generated_summary == reference_summaries[i]:\n",
    "        accuracy += 1.0\n",
    "accuracy = accuracy / len(reference_summaries)\n",
    "\n",
    "print(f\"Achieved accuracy {accuracy}!\")"
   ]
  },
  {
   "cell_type": "markdown",
   "metadata": {
    "application/vnd.databricks.v1+cell": {
     "cellMetadata": {},
     "inputWidgets": {},
     "nuid": "75e0c9de-b22d-400e-abe6-f7cc5948e7d1",
     "showTitle": false,
     "title": ""
    }
   },
   "source": [
    "Accuracy zero?!?  We can see that the (very generic) metric of 0/1 accuracy is not useful for summarization.  Thinking about this more, small variations in wording may not matter much, and many different summaries may be equally valid.  So how can we evaluate summarization?"
   ]
  },
  {
   "cell_type": "markdown",
   "metadata": {
    "application/vnd.databricks.v1+cell": {
     "cellMetadata": {},
     "inputWidgets": {},
     "nuid": "9723e4c1-59f5-4167-9e6d-77866ceb90f1",
     "showTitle": false,
     "title": ""
    }
   },
   "source": [
    "## ROUGE\n",
    "\n",
    "Now that we can generate summaries---and we know 0/1 accuracy is useless here---let's look at how we can compute a meaningful metric designed to evaluate summarization: ROUGE.\n",
    "\n",
    "Recall-Oriented Understudy for Gisting Evaluation (ROUGE) is a set of evaluation metrics designed for comparing summaries from Lin et al., 2004.  See [Wikipedia](https://en.wikipedia.org/wiki/ROUGE_&#40;metric&#41;) for more info.  Here, we use the Hugging Face Evaluator wrapper to call into the `rouge_score` package.  This package provides 4 scores:\n",
    "\n",
    "* `rouge1`: ROUGE computed over unigrams (single words or tokens)\n",
    "* `rouge2`: ROUGE computed over bigrams (pairs of consecutive words or tokens)\n",
    "* `rougeL`: ROUGE based on the longest common subsequence shared by the summaries being compared\n",
    "* `rougeLsum`: like `rougeL`, but at \"summary level,\" i.e., ignoring sentence breaks (newlines)"
   ]
  },
  {
   "cell_type": "code",
   "execution_count": 0,
   "metadata": {
    "application/vnd.databricks.v1+cell": {
     "cellMetadata": {},
     "inputWidgets": {},
     "nuid": "057af0e5-5ac8-48ae-a3bd-491a2999eede",
     "showTitle": false,
     "title": ""
    }
   },
   "outputs": [],
   "source": [
    "import evaluate\n",
    "import nltk\n",
    "from nltk.tokenize import sent_tokenize\n",
    "\n",
    "nltk.download(\"punkt\")\n",
    "\n",
    "rouge_score = evaluate.load(\"rouge\")"
   ]
  },
  {
   "cell_type": "markdown",
   "metadata": {
    "application/vnd.databricks.v1+cell": {
     "cellMetadata": {},
     "inputWidgets": {},
     "nuid": "2d950361-e220-4185-8858-2968ff64a10e",
     "showTitle": false,
     "title": ""
    }
   },
   "source": [
    "You can call `rouge_score` evaluator directly, but we provide a convenience function below to handle the expected input format."
   ]
  },
  {
   "cell_type": "code",
   "execution_count": 0,
   "metadata": {
    "application/vnd.databricks.v1+cell": {
     "cellMetadata": {},
     "inputWidgets": {},
     "nuid": "76a46f7c-953a-4bf9-baf2-0583ceeb1e9e",
     "showTitle": false,
     "title": ""
    }
   },
   "outputs": [],
   "source": [
    "def compute_rouge_score(generated: list, reference: list) -> dict:\n",
    "    \"\"\"\n",
    "    Compute ROUGE scores on a batch of articles.\n",
    "\n",
    "    This is a convenience function wrapping Hugging Face `rouge_score`,\n",
    "    which expects sentences to be separated by newlines.\n",
    "\n",
    "    :param generated: Summaries (list of strings) produced by the model\n",
    "    :param reference: Ground-truth summaries (list of strings) for comparison\n",
    "    \"\"\"\n",
    "    generated_with_newlines = [\"\\n\".join(sent_tokenize(s.strip())) for s in generated]\n",
    "    reference_with_newlines = [\"\\n\".join(sent_tokenize(s.strip())) for s in reference]\n",
    "    return rouge_score.compute(\n",
    "        predictions=generated_with_newlines,\n",
    "        references=reference_with_newlines,\n",
    "        use_stemmer=True,\n",
    "    )"
   ]
  },
  {
   "cell_type": "code",
   "execution_count": 0,
   "metadata": {
    "application/vnd.databricks.v1+cell": {
     "cellMetadata": {},
     "inputWidgets": {},
     "nuid": "03a20135-5fa0-4b8f-9bd3-01187c7578d1",
     "showTitle": false,
     "title": ""
    }
   },
   "outputs": [],
   "source": [
    "# ROUGE scores for our batch of articles\n",
    "compute_rouge_score(t5_small_summaries, reference_summaries)"
   ]
  },
  {
   "cell_type": "markdown",
   "metadata": {
    "application/vnd.databricks.v1+cell": {
     "cellMetadata": {},
     "inputWidgets": {},
     "nuid": "2b8dd7f8-e73e-4347-bab7-d51b9c403a4f",
     "showTitle": false,
     "title": ""
    }
   },
   "source": [
    "## Understanding ROUGE scores"
   ]
  },
  {
   "cell_type": "code",
   "execution_count": 0,
   "metadata": {
    "application/vnd.databricks.v1+cell": {
     "cellMetadata": {},
     "inputWidgets": {},
     "nuid": "1aa4625b-2fe0-47bd-9177-516437e02cc4",
     "showTitle": false,
     "title": ""
    }
   },
   "outputs": [],
   "source": [
    "# Sanity check: What if our predictions match the references exactly?\n",
    "compute_rouge_score(reference_summaries, reference_summaries)"
   ]
  },
  {
   "cell_type": "code",
   "execution_count": 0,
   "metadata": {
    "application/vnd.databricks.v1+cell": {
     "cellMetadata": {},
     "inputWidgets": {},
     "nuid": "5defb061-6d7e-4b60-86a3-a2c89fd389e1",
     "showTitle": false,
     "title": ""
    }
   },
   "outputs": [],
   "source": [
    "# And what if we fail to predict anything?\n",
    "compute_rouge_score(\n",
    "    generated=[\"\" for _ in range(len(reference_summaries))],\n",
    "    reference=reference_summaries,\n",
    ")"
   ]
  },
  {
   "cell_type": "markdown",
   "metadata": {
    "application/vnd.databricks.v1+cell": {
     "cellMetadata": {},
     "inputWidgets": {},
     "nuid": "8b2a0299-4375-4024-9b40-a237a153350c",
     "showTitle": false,
     "title": ""
    }
   },
   "source": [
    "Stemming predictions and references can help to ignore minor differences.\n",
    "\n",
    "We will use `rouge_score.compute()` directly for these hand-constructed examples."
   ]
  },
  {
   "cell_type": "code",
   "execution_count": 0,
   "metadata": {
    "application/vnd.databricks.v1+cell": {
     "cellMetadata": {},
     "inputWidgets": {},
     "nuid": "ec75f62c-6a6d-4395-a274-eb4f80fcc7a4",
     "showTitle": false,
     "title": ""
    }
   },
   "outputs": [],
   "source": [
    "rouge_score.compute(\n",
    "    predictions=[\"Large language models beat world record\"],\n",
    "    references=[\"Large language models beating world records\"],\n",
    "    use_stemmer=False,\n",
    ")"
   ]
  },
  {
   "cell_type": "code",
   "execution_count": 0,
   "metadata": {
    "application/vnd.databricks.v1+cell": {
     "cellMetadata": {},
     "inputWidgets": {},
     "nuid": "bc3c825c-2be4-4967-aaee-c0f0cf7d1b5b",
     "showTitle": false,
     "title": ""
    }
   },
   "outputs": [],
   "source": [
    "rouge_score.compute(\n",
    "    predictions=[\"Large language models beat world record\"],\n",
    "    references=[\"Large language models beating world records\"],\n",
    "    use_stemmer=True,\n",
    ")"
   ]
  },
  {
   "cell_type": "markdown",
   "metadata": {
    "application/vnd.databricks.v1+cell": {
     "cellMetadata": {},
     "inputWidgets": {},
     "nuid": "4ac7fed9-c5d8-44a3-9898-c5b1e850082c",
     "showTitle": false,
     "title": ""
    }
   },
   "source": [
    "Let's look at how the ROUGE score behaves in various situations."
   ]
  },
  {
   "cell_type": "code",
   "execution_count": 0,
   "metadata": {
    "application/vnd.databricks.v1+cell": {
     "cellMetadata": {},
     "inputWidgets": {},
     "nuid": "07c135f5-14dd-4baa-9197-2d3f410f5597",
     "showTitle": false,
     "title": ""
    }
   },
   "outputs": [],
   "source": [
    "# What if we predict exactly 1 word correctly?\n",
    "rouge_score.compute(\n",
    "    predictions=[\"Large language models beat world record\"],\n",
    "    references=[\"Large\"],\n",
    "    use_stemmer=True,\n",
    ")"
   ]
  },
  {
   "cell_type": "code",
   "execution_count": 0,
   "metadata": {
    "application/vnd.databricks.v1+cell": {
     "cellMetadata": {},
     "inputWidgets": {},
     "nuid": "7a0eab67-d04a-4d95-a506-0bb1bc524c45",
     "showTitle": false,
     "title": ""
    }
   },
   "outputs": [],
   "source": [
    "# The ROUGE score is symmetric with respect to predictions and references.\n",
    "rouge_score.compute(\n",
    "    predictions=[\"Large\"],\n",
    "    references=[\"Large language models beat world record\"],\n",
    "    use_stemmer=True,\n",
    ")"
   ]
  },
  {
   "cell_type": "code",
   "execution_count": 0,
   "metadata": {
    "application/vnd.databricks.v1+cell": {
     "cellMetadata": {},
     "inputWidgets": {},
     "nuid": "c82b58f0-dad7-4a8c-9093-105483ad4115",
     "showTitle": false,
     "title": ""
    }
   },
   "outputs": [],
   "source": [
    "# What about 2 words?  Note how 'rouge1' and 'rouge2' compare with the case when we predict exactly 1 word correctly.\n",
    "rouge_score.compute(\n",
    "    predictions=[\"Large language\"],\n",
    "    references=[\"Large language models beat world record\"],\n",
    "    use_stemmer=True,\n",
    ")"
   ]
  },
  {
   "cell_type": "code",
   "execution_count": 0,
   "metadata": {
    "application/vnd.databricks.v1+cell": {
     "cellMetadata": {},
     "inputWidgets": {},
     "nuid": "0d9175e5-59ab-46f9-8e90-c8ffa86b9157",
     "showTitle": false,
     "title": ""
    }
   },
   "outputs": [],
   "source": [
    "# Note how rouge1 differs from the rougeN (N>1) scores when we predict word subsequences correctly.\n",
    "rouge_score.compute(\n",
    "    predictions=[\"Models beat large language world record\"],\n",
    "    references=[\"Large language models beat world record\"],\n",
    "    use_stemmer=True,\n",
    ")"
   ]
  },
  {
   "cell_type": "markdown",
   "metadata": {
    "application/vnd.databricks.v1+cell": {
     "cellMetadata": {},
     "inputWidgets": {},
     "nuid": "efbba456-40fb-43e5-9d97-360a015969c1",
     "showTitle": false,
     "title": ""
    }
   },
   "source": [
    "## Compare small and large models\n",
    "\n",
    " We've been working with the `t5-small` model so far.  Let's compare several models with different architectures in terms of their ROUGE scores and some example generated summaries."
   ]
  },
  {
   "cell_type": "code",
   "execution_count": 0,
   "metadata": {
    "application/vnd.databricks.v1+cell": {
     "cellMetadata": {},
     "inputWidgets": {},
     "nuid": "bcdc9b6c-4573-4ab1-aca3-58734106a2a0",
     "showTitle": false,
     "title": ""
    }
   },
   "outputs": [],
   "source": [
    "def compute_rouge_per_row(\n",
    "    generated_summaries: list, reference_summaries: list\n",
    ") -> pd.DataFrame:\n",
    "    \"\"\"\n",
    "    Generates a dataframe to compare rogue score metrics.\n",
    "    \"\"\"\n",
    "    generated_with_newlines = [\n",
    "        \"\\n\".join(sent_tokenize(s.strip())) for s in generated_summaries\n",
    "    ]\n",
    "    reference_with_newlines = [\n",
    "        \"\\n\".join(sent_tokenize(s.strip())) for s in reference_summaries\n",
    "    ]\n",
    "    scores = rouge_score.compute(\n",
    "        predictions=generated_with_newlines,\n",
    "        references=reference_with_newlines,\n",
    "        use_stemmer=True,\n",
    "        use_aggregator=False,\n",
    "    )\n",
    "    scores[\"generated\"] = generated_summaries\n",
    "    scores[\"reference\"] = reference_summaries\n",
    "    return pd.DataFrame.from_dict(scores)"
   ]
  },
  {
   "cell_type": "markdown",
   "metadata": {
    "application/vnd.databricks.v1+cell": {
     "cellMetadata": {},
     "inputWidgets": {},
     "nuid": "a35bbc07-7ad9-4fcf-859b-669e0e4c7150",
     "showTitle": false,
     "title": ""
    }
   },
   "source": [
    "### T5-small\n",
    "\n",
    "The [T5](https://huggingface.co/docs/transformers/model_doc/t5) [[paper]](https://arxiv.org/pdf/1910.10683.pdf) family of models are text-to-text transformers that have been trained on a multi-task mixture of unsupervised and supervised tasks. They are well suited for task such as summarization, translation, text classification, question answering, and more.\n",
    "\n",
    "The t5-small version of the T5 models has 60 million parameters."
   ]
  },
  {
   "cell_type": "code",
   "execution_count": 0,
   "metadata": {
    "application/vnd.databricks.v1+cell": {
     "cellMetadata": {},
     "inputWidgets": {},
     "nuid": "71530423-f6de-484c-840d-5ac2cc151205",
     "showTitle": false,
     "title": ""
    }
   },
   "outputs": [],
   "source": [
    "# We computed t5_small_summaries above already.\n",
    "compute_rouge_score(t5_small_summaries, reference_summaries)"
   ]
  },
  {
   "cell_type": "code",
   "execution_count": 0,
   "metadata": {
    "application/vnd.databricks.v1+cell": {
     "cellMetadata": {},
     "inputWidgets": {},
     "nuid": "0741ab15-4170-4760-90cd-538310f97a59",
     "showTitle": false,
     "title": ""
    }
   },
   "outputs": [],
   "source": [
    "t5_small_results = compute_rouge_per_row(\n",
    "    generated_summaries=t5_small_summaries, reference_summaries=reference_summaries\n",
    ")\n",
    "display(t5_small_results)"
   ]
  },
  {
   "cell_type": "markdown",
   "metadata": {
    "application/vnd.databricks.v1+cell": {
     "cellMetadata": {},
     "inputWidgets": {},
     "nuid": "79437739-5287-46ee-b763-d8ff9b02b4f6",
     "showTitle": false,
     "title": ""
    }
   },
   "source": [
    "### T5-base\n",
    "\n",
    "The [T5-base](https://huggingface.co/t5-base) model has 220 million parameters."
   ]
  },
  {
   "cell_type": "code",
   "execution_count": 0,
   "metadata": {
    "application/vnd.databricks.v1+cell": {
     "cellMetadata": {},
     "inputWidgets": {},
     "nuid": "39d41e74-c6fc-4ec0-8738-455569ad521c",
     "showTitle": false,
     "title": ""
    }
   },
   "outputs": [],
   "source": [
    "t5_base_summaries = summarize_with_t5(\n",
    "    model_checkpoint=\"t5-base\", articles=sample[\"article\"]\n",
    ")\n",
    "compute_rouge_score(t5_base_summaries, reference_summaries)"
   ]
  },
  {
   "cell_type": "code",
   "execution_count": 0,
   "metadata": {
    "application/vnd.databricks.v1+cell": {
     "cellMetadata": {},
     "inputWidgets": {},
     "nuid": "c82240bb-b8cc-4c84-9697-494d4183fb2b",
     "showTitle": false,
     "title": ""
    }
   },
   "outputs": [],
   "source": [
    "t5_base_results = compute_rouge_per_row(\n",
    "    generated_summaries=t5_base_summaries, reference_summaries=reference_summaries\n",
    ")\n",
    "display(t5_base_results)"
   ]
  },
  {
   "cell_type": "markdown",
   "metadata": {
    "application/vnd.databricks.v1+cell": {
     "cellMetadata": {},
     "inputWidgets": {},
     "nuid": "a5bd0b74-263c-438c-ac6e-50c5c5d084fa",
     "showTitle": false,
     "title": ""
    }
   },
   "source": [
    "### GPT-2\n",
    "\n",
    "The [GPT-2](https://huggingface.co/gpt2) model is a generative text model that was trained in a self-supervised fashion. Its strengths are in using a 'completing the sentence' for a given prompt.  It has 124 million parameters."
   ]
  },
  {
   "cell_type": "code",
   "execution_count": 0,
   "metadata": {
    "application/vnd.databricks.v1+cell": {
     "cellMetadata": {},
     "inputWidgets": {},
     "nuid": "dd4f60a3-a443-44ad-a238-ed6fb319ca8a",
     "showTitle": false,
     "title": ""
    }
   },
   "outputs": [],
   "source": [
    "from transformers import GPT2LMHeadModel, GPT2Tokenizer\n",
    "\n",
    "\n",
    "def summarize_with_gpt2(\n",
    "    model_checkpoint: str, articles: list, batch_size: int = 8\n",
    ") -> list:\n",
    "    \"\"\"\n",
    "    Convenience function for summarization with GPT2 to handle these complications:\n",
    "    - Append \"TL;DR\" to the end of the input to get GPT2 to generate a summary.\n",
    "    https://huggingface.co/course/chapter7/5?fw=pt\n",
    "    - Truncate input to handle long articles.\n",
    "    - GPT2 uses a max token length of 1024.  We use a shorter 512 limit here.\n",
    "\n",
    "    :param model_checkpoint: reference to checkpointed model\n",
    "    :param articles: list of strings\n",
    "    :return: generated summaries, with the input and \"TL;DR\" removed\n",
    "    \"\"\"\n",
    "    if torch.cuda.is_available():\n",
    "        device = \"cuda:0\"\n",
    "    else:\n",
    "        device = \"cpu\"\n",
    "\n",
    "    tokenizer = GPT2Tokenizer.from_pretrained(\n",
    "        model_checkpoint, padding_side=\"left\", cache_dir=DA.paths.datasets\n",
    "    )\n",
    "    tokenizer.add_special_tokens({\"pad_token\": tokenizer.eos_token})\n",
    "    model = GPT2LMHeadModel.from_pretrained(\n",
    "        model_checkpoint,\n",
    "        pad_token_id=tokenizer.eos_token_id,\n",
    "        cache_dir=DA.paths.datasets,\n",
    "    ).to(device)\n",
    "\n",
    "    def perform_inference(batch: list) -> list:\n",
    "        tmp_inputs = tokenizer(\n",
    "            batch, max_length=500, return_tensors=\"pt\", padding=True, truncation=True\n",
    "        )\n",
    "        tmp_inputs_decoded = tokenizer.batch_decode(\n",
    "            tmp_inputs.input_ids, skip_special_tokens=True\n",
    "        )\n",
    "        inputs = tokenizer(\n",
    "            [article + \" TL;DR:\" for article in tmp_inputs_decoded],\n",
    "            max_length=512,\n",
    "            return_tensors=\"pt\",\n",
    "            padding=True,\n",
    "            truncation=True,\n",
    "        )\n",
    "        summary_ids = model.generate(\n",
    "            inputs.input_ids.to(device),\n",
    "            attention_mask=inputs.attention_mask.to(device),\n",
    "            num_beams=2,\n",
    "            min_length=0,\n",
    "            max_length=512 + 32,\n",
    "        )\n",
    "        return tokenizer.batch_decode(summary_ids, skip_special_tokens=True)\n",
    "\n",
    "    decoded_summaries = []\n",
    "    for batch in batch_generator(articles, batch_size=batch_size):\n",
    "        decoded_summaries += perform_inference(batch)\n",
    "\n",
    "        # batch clean up\n",
    "        torch.cuda.empty_cache()\n",
    "        gc.collect()\n",
    "\n",
    "    # post-process decoded summaries\n",
    "    summaries = [\n",
    "        summary[summary.find(\"TL;DR:\") + len(\"TL;DR: \") :]\n",
    "        for summary in decoded_summaries\n",
    "    ]\n",
    "\n",
    "    # cleanup\n",
    "    del tokenizer\n",
    "    del model\n",
    "    torch.cuda.empty_cache()\n",
    "    gc.collect()\n",
    "\n",
    "    return summaries"
   ]
  },
  {
   "cell_type": "code",
   "execution_count": 0,
   "metadata": {
    "application/vnd.databricks.v1+cell": {
     "cellMetadata": {},
     "inputWidgets": {},
     "nuid": "626a6a34-3a5a-48a4-92b0-3f83e42ef03d",
     "showTitle": false,
     "title": ""
    }
   },
   "outputs": [],
   "source": [
    "gpt2_summaries = summarize_with_gpt2(\n",
    "    model_checkpoint=\"gpt2\", articles=sample[\"article\"]\n",
    ")\n",
    "compute_rouge_score(gpt2_summaries, reference_summaries)"
   ]
  },
  {
   "cell_type": "code",
   "execution_count": 0,
   "metadata": {
    "application/vnd.databricks.v1+cell": {
     "cellMetadata": {},
     "inputWidgets": {},
     "nuid": "0f7fb090-4341-43bf-a5e3-edb95d942dee",
     "showTitle": false,
     "title": ""
    }
   },
   "outputs": [],
   "source": [
    "gpt2_results = compute_rouge_per_row(\n",
    "    generated_summaries=gpt2_summaries, reference_summaries=reference_summaries\n",
    ")\n",
    "display(gpt2_results)"
   ]
  },
  {
   "cell_type": "markdown",
   "metadata": {
    "application/vnd.databricks.v1+cell": {
     "cellMetadata": {},
     "inputWidgets": {},
     "nuid": "c0b1b433-026e-4a21-9cb3-c2d786356fc8",
     "showTitle": false,
     "title": ""
    }
   },
   "source": [
    "### Comparing all models\n",
    "\n",
    "We use a couple of helper functions to compare the above models, first by their evaluation metrics (quantitative) and second by their generated summaries (qualitative)."
   ]
  },
  {
   "cell_type": "code",
   "execution_count": 0,
   "metadata": {
    "application/vnd.databricks.v1+cell": {
     "cellMetadata": {},
     "inputWidgets": {},
     "nuid": "215ae9d3-02c9-40bb-b3a2-f285d7a18f1d",
     "showTitle": false,
     "title": ""
    }
   },
   "outputs": [],
   "source": [
    "def compare_models(models_results: dict) -> pd.DataFrame:\n",
    "    \"\"\"\n",
    "    :param models_results: dict of \"model name\" string mapped to pd.DataFrame of results computed by `compute_rouge_per_row`\n",
    "    :return: pd.DataFrame with 1 row per model, with columns: model, rouge1, rouge2, rougeL, rougeLsum\n",
    "    where metrics are averages over input results for each model\n",
    "    \"\"\"\n",
    "    agg_results = []\n",
    "    for r in models_results:\n",
    "        model_results = models_results[r].drop(\n",
    "            labels=[\"generated\", \"reference\"], axis=1\n",
    "        )\n",
    "        agg_metrics = [r]\n",
    "        agg_metrics[1:] = model_results.mean(axis=0)\n",
    "        agg_results.append(agg_metrics)\n",
    "    return pd.DataFrame(\n",
    "        agg_results, columns=[\"model\", \"rouge1\", \"rouge2\", \"rougeL\", \"rougeLsum\"]\n",
    "    )"
   ]
  },
  {
   "cell_type": "code",
   "execution_count": 0,
   "metadata": {
    "application/vnd.databricks.v1+cell": {
     "cellMetadata": {},
     "inputWidgets": {},
     "nuid": "28d3ae1f-fc65-457e-91c1-1a40fea92bb2",
     "showTitle": false,
     "title": ""
    }
   },
   "outputs": [],
   "source": [
    "display(\n",
    "    compare_models(\n",
    "        {\n",
    "            \"t5-small\": t5_small_results,\n",
    "            \"t5-base\": t5_base_results,\n",
    "            \"gpt2\": gpt2_results,\n",
    "        }\n",
    "    )\n",
    ")"
   ]
  },
  {
   "cell_type": "code",
   "execution_count": 0,
   "metadata": {
    "application/vnd.databricks.v1+cell": {
     "cellMetadata": {},
     "inputWidgets": {},
     "nuid": "5958de7d-4b55-433d-a02c-53e3faed8cda",
     "showTitle": false,
     "title": ""
    }
   },
   "outputs": [],
   "source": [
    "def compare_models_summaries(models_summaries: dict) -> pd.DataFrame:\n",
    "    \"\"\"\n",
    "    Aggregates results from `models_summaries` and returns a dataframe.\n",
    "    \"\"\"\n",
    "    comparison_df = None\n",
    "    for model_name in models_summaries:\n",
    "        summaries_df = models_summaries[model_name]\n",
    "        if comparison_df is None:\n",
    "            comparison_df = summaries_df[[\"generated\"]].rename(\n",
    "                {\"generated\": model_name}, axis=1\n",
    "            )\n",
    "        else:\n",
    "            comparison_df = comparison_df.join(\n",
    "                summaries_df[[\"generated\"]].rename({\"generated\": model_name}, axis=1)\n",
    "            )\n",
    "    return comparison_df"
   ]
  },
  {
   "cell_type": "code",
   "execution_count": 0,
   "metadata": {
    "application/vnd.databricks.v1+cell": {
     "cellMetadata": {},
     "inputWidgets": {},
     "nuid": "fe1469ac-417e-4174-a4d7-63e7e434e82e",
     "showTitle": false,
     "title": ""
    }
   },
   "outputs": [],
   "source": [
    "# In the output table below, scroll to the right to see all models.\n",
    "display(\n",
    "    compare_models_summaries(\n",
    "        {\n",
    "            \"t5_small\": t5_small_results,\n",
    "            \"t5_base\": t5_base_results,\n",
    "            \"gpt2\": gpt2_results,\n",
    "        }\n",
    "    )\n",
    ")"
   ]
  },
  {
   "cell_type": "markdown",
   "metadata": {
    "application/vnd.databricks.v1+cell": {
     "cellMetadata": {},
     "inputWidgets": {},
     "nuid": "7714ff59-e534-4808-8423-ac69a0270104",
     "showTitle": false,
     "title": ""
    }
   },
   "source": [
    "&copy; 2023 Databricks, Inc. All rights reserved.<br/>\n",
    "Apache, Apache Spark, Spark and the Spark logo are trademarks of the <a href=\"https://www.apache.org/\">Apache Software Foundation</a>.<br/>\n",
    "<br/>\n",
    "<a href=\"https://databricks.com/privacy-policy\">Privacy Policy</a> | <a href=\"https://databricks.com/terms-of-use\">Terms of Use</a> | <a href=\"https://help.databricks.com/\">Support</a>"
   ]
  }
 ],
 "metadata": {
  "application/vnd.databricks.v1+notebook": {
   "dashboards": [],
   "language": "python",
   "notebookMetadata": {
    "pythonIndentUnit": 2
   },
   "notebookName": "LLM 04b - Evaluating LLMs",
   "widgets": {}
  }
 },
 "nbformat": 4,
 "nbformat_minor": 0
}
